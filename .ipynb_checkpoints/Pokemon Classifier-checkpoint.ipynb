{
 "cells": [
  {
   "cell_type": "code",
   "execution_count": 2,
   "metadata": {
    "collapsed": true
   },
   "outputs": [],
   "source": [
    "import os\n",
    "from pathlib import Path\n",
    "import cv2\n",
    "import matplotlib.pyplot as plt\n",
    "import numpy as np"
   ]
  },
  {
   "cell_type": "markdown",
   "metadata": {},
   "source": [
    "## Data Preparation"
   ]
  },
  {
   "cell_type": "code",
   "execution_count": 3,
   "metadata": {},
   "outputs": [],
   "source": [
    "# p = Path(\"./Desktop/CB - ML/DATASETS/3_pokemon_dataset\")\n",
    "p = Path(\"./dataset\")"
   ]
  },
  {
   "cell_type": "code",
   "execution_count": 4,
   "metadata": {},
   "outputs": [
    {
     "name": "stdout",
     "output_type": "stream",
     "text": [
      "176\n",
      "70\n",
      "199\n"
     ]
    }
   ],
   "source": [
    "dirs = p.glob(\"*\")\n",
    "\n",
    "image_data = []\n",
    "labels = []\n",
    "\n",
    "image_paths = []\n",
    "\n",
    "labels_dict = {\"Pikachu\":0, \"Bulbasaur\":1, \"Meowth\":2}\n",
    "label2pokemon = {0:\"Pikachu\", 1:\"Bulbasaur\", 2:\"Meowth\"}\n",
    "\n",
    "for folder_dir in dirs:\n",
    "    label = str(folder_dir).split(\"\\\\\")[-1]\n",
    "    \n",
    "    cnt = 0\n",
    "    \n",
    "    # Iterate over folder_dir and pick all images of the pokemon\n",
    "    for img_path in folder_dir.glob(\"*.jpg\"):\n",
    "        img = cv2.imread(str(img_path))\n",
    "        img = cv2.resize(img, (40, 40))\n",
    "        image_data.append(img)\n",
    "        labels.append(labels_dict[label])\n",
    "        cnt += 1  \n",
    "    \n",
    "    print(cnt)"
   ]
  },
  {
   "cell_type": "code",
   "execution_count": 5,
   "metadata": {},
   "outputs": [
    {
     "name": "stdout",
     "output_type": "stream",
     "text": [
      "(375, 4800)\n",
      "(70, 4800)\n"
     ]
    }
   ],
   "source": [
    "X = np.array(image_data)\n",
    "Y = np.array(labels)\n",
    "\n",
    "# Normalisation\n",
    "X = X/255.0\n",
    "\n",
    "# Create Training and Testing Set\n",
    "X_ = np.array(X)\n",
    "Y_ = np.array(Y)\n",
    "\n",
    "# Training Set\n",
    "X = X_[:375,:]\n",
    "Y = Y_[:375]\n",
    "\n",
    "# Test Set\n",
    "XTest = X_[375:,:]\n",
    "YTest = Y_[375:]\n",
    "\n",
    "X = X.reshape(X.shape[0],-1)\n",
    "print(X.shape)\n",
    "\n",
    "XTest = XTest.reshape(XTest.shape[0],-1)\n",
    "print(XTest.shape)"
   ]
  },
  {
   "cell_type": "markdown",
   "metadata": {
    "collapsed": true
   },
   "source": [
    "## Visualisation of data"
   ]
  },
  {
   "cell_type": "code",
   "execution_count": 7,
   "metadata": {
    "collapsed": true
   },
   "outputs": [],
   "source": [
    "# Draw some pokemons\n",
    "def drawImage(img, label):\n",
    "    plt.imshow(img)\n",
    "    plt.axis(\"off\")\n",
    "    plt.title(label2pokemon[label])\n",
    "    plt.show()"
   ]
  },
  {
   "cell_type": "code",
   "execution_count": 8,
   "metadata": {},
   "outputs": [
    {
     "data": {
      "image/png": "[encoded data removed]",
      "text/plain": [
       "<matplotlib.figure.Figure at 0x1beb45de748>"
      ]
     },
     "metadata": {},
     "output_type": "display_data"
    }
   ],
   "source": [
    "drawImage(X_[0], Y_[0])"
   ]
  },
  {
   "cell_type": "markdown",
   "metadata": {},
   "source": [
    "## MLP Classifier"
   ]
  },
  {
   "cell_type": "code",
   "execution_count": 9,
   "metadata": {
    "collapsed": true
   },
   "outputs": [],
   "source": [
    "class NeuralNetwork:\n",
    "    \n",
    "    def __init__(self, input_size, layers, output_size):\n",
    "        np.random.seed(0)\n",
    "        \n",
    "        model = {} # Dictionary\n",
    "        \n",
    "        # First Layer\n",
    "        model['w1'] = np.random.randn(input_size, layers[0]) # randn to generate random weights from a normal distribution\n",
    "        model['b1'] = np.zeros((1, layers[0]))\n",
    "        \n",
    "        # Second Layer\n",
    "        model['w2'] = np.random.randn(layers[0], layers[1])\n",
    "        model['b2'] = np.zeros((1, layers[1]))\n",
    "        \n",
    "        # Third/Output Layer\n",
    "        model['w3'] = np.random.randn(layers[1], output_size)\n",
    "        model['b3'] = np.zeros((1, output_size))\n",
    "        \n",
    "        self.model = model\n",
    "    \n",
    "    def forward(self, x):\n",
    "        \n",
    "        w1, w2, w3 = self.model['w1'], self.model['w2'], self.model['w3']\n",
    "        b1, b2, b3 = self.model['b1'], self.model['b2'], self.model['b3']\n",
    "        \n",
    "        z1 = np.dot(x, w1) + b1\n",
    "        a1 = np.tanh(z1)\n",
    "        \n",
    "        z2 = np.dot(a1, w2) + b2\n",
    "        a2 = np.tanh(z2)\n",
    "        \n",
    "        z3 = np.dot(a2, w3) + b3\n",
    "        y_ = softmax(z3)\n",
    "        \n",
    "        self.activation_outputs = (a1, a2, y_)\n",
    "        return y_\n",
    "        \n",
    "    def backward(self, x, y, learning_rate=0.001):\n",
    "        \n",
    "        w1, w2, w3 = self.model['w1'], self.model['w2'], self.model['w3']\n",
    "        b1, b2, b3 = self.model['b1'], self.model['b2'], self.model['b3']\n",
    "        m = x.shape[0]\n",
    "        a1, a2, y_ = self.activation_outputs\n",
    "        \n",
    "        delta3 = y_ - y\n",
    "        dw3 = np.dot(a2.T, delta3)\n",
    "        db3 = np.sum(delta3, axis=0)/float(m)\n",
    "        \n",
    "        delta2 = (1-np.square(a2))*np.dot(delta3, w3.T)\n",
    "        dw2 = np.dot(a1.T, delta2)\n",
    "        db2 = np.sum(delta2, axis=0)/float(m)\n",
    "        \n",
    "        delta1 = (1-np.square(a1))*np.dot(delta2, w2.T)\n",
    "        dw1 = np.dot(x.T, delta1)\n",
    "        db1 = np.sum(delta1, axis=0)/float(m)\n",
    "        \n",
    "        # Update the model parameters\n",
    "        self.model[\"w1\"] -= learning_rate*dw1\n",
    "        self.model[\"b1\"] -= learning_rate*db1\n",
    "        \n",
    "        self.model[\"w2\"] -= learning_rate*dw2\n",
    "        self.model[\"b2\"] -= learning_rate*db2\n",
    "        \n",
    "        self.model[\"w3\"] -= learning_rate*dw3\n",
    "        self.model[\"b3\"] -= learning_rate*db3\n",
    "        \n",
    "    def predict(self, x):\n",
    "        y_out = self.forward(x)\n",
    "        return np.argmax(y_out, axis=1)\n",
    "    \n",
    "    def summary(self):\n",
    "        \n",
    "        w1, w2, w3 = self.model['w1'], self.model['w2'], self.model['w3']\n",
    "        a1, a2, y_ = self.activation_outputs\n",
    "        \n",
    "        print(\"w1\", w1.shape)\n",
    "        print(\"a1\", a1.shape)\n",
    "        \n",
    "        print(\"w2\", w2.shape)\n",
    "        print(\"a2\", a2.shape)\n",
    "        \n",
    "        print(\"w3\", w3.shape)\n",
    "        print(\"y_\", y_.shape)\n",
    "        "
   ]
  },
  {
   "cell_type": "code",
   "execution_count": 10,
   "metadata": {
    "collapsed": true
   },
   "outputs": [],
   "source": [
    "def softmax(a):\n",
    "    e_pa = np.exp(a) # Vector if 'a' is vector\n",
    "    ans = e_pa / np.sum(e_pa, axis=1, keepdims=True)\n",
    "    return ans\n",
    "\n",
    "def loss(y_oht, p):\n",
    "    l = -np.mean(y_oht*np.log(p))\n",
    "    return l\n",
    "\n",
    "def one_hot(y, depth):\n",
    "    \n",
    "    m = y.shape[0]\n",
    "    y_oht = np.zeros((m, depth))\n",
    "    y_oht[np.arange(m), y] = 1\n",
    "    return y_oht"
   ]
  },
  {
   "cell_type": "markdown",
   "metadata": {},
   "source": [
    "## Training our classifier"
   ]
  },
  {
   "cell_type": "code",
   "execution_count": 11,
   "metadata": {
    "collapsed": true
   },
   "outputs": [],
   "source": [
    "def train(X,Y,model,epochs,learning_rate,logs=True):\n",
    "    training_loss = []\n",
    "    \n",
    "    classes = 3\n",
    "    Y_OHT = one_hot(Y,classes)\n",
    "    \n",
    "    for ix in range(epochs):\n",
    "        \n",
    "        Y_ = model.forward(X)\n",
    "        l = loss(Y_OHT,Y_)\n",
    "        \n",
    "        model.backward(X,Y_OHT,learning_rate)\n",
    "        training_loss.append(l)\n",
    "        if(logs and ix%50==0):\n",
    "            print(\"Epoch %d Loss %.4f\"%(ix,l))        \n",
    "    \n",
    "    return training_loss"
   ]
  },
  {
   "cell_type": "code",
   "execution_count": 12,
   "metadata": {
    "collapsed": true
   },
   "outputs": [],
   "source": [
    "model = NeuralNetwork(input_size=4800,layers=[100,50],output_size=3)"
   ]
  },
  {
   "cell_type": "code",
   "execution_count": 13,
   "metadata": {},
   "outputs": [
    {
     "name": "stdout",
     "output_type": "stream",
     "text": [
      "Epoch 0 Loss 3.1501\n",
      "Epoch 50 Loss 0.2196\n",
      "Epoch 100 Loss 0.0912\n",
      "Epoch 150 Loss 0.0540\n",
      "Epoch 200 Loss 0.0381\n",
      "Epoch 250 Loss 0.0303\n",
      "Epoch 300 Loss 0.0243\n",
      "Epoch 350 Loss 0.0200\n"
     ]
    }
   ],
   "source": [
    "l = train(X,Y,model,400,0.0002)"
   ]
  },
  {
   "cell_type": "markdown",
   "metadata": {},
   "source": [
    "## Training loss vs Epochs"
   ]
  },
  {
   "cell_type": "code",
   "execution_count": null,
   "metadata": {},
   "outputs": [],
   "source": [
    "plt.style.use(\"dark_background\")\n",
    "plt.title(\"Training Loss vs Epochs\")\n",
    "plt.plot(l)\n",
    "plt.show()"
   ]
  },
  {
   "cell_type": "markdown",
   "metadata": {},
   "source": [
    "## Accuracy"
   ]
  },
  {
   "cell_type": "code",
   "execution_count": 19,
   "metadata": {
    "collapsed": true
   },
   "outputs": [],
   "source": [
    "def getAccuracy(X,Y,model):\n",
    "    outputs = model.predict(X)\n",
    "    acc = np.sum(outputs==Y)/Y.shape[0]\n",
    "    return acc"
   ]
  },
  {
   "cell_type": "code",
   "execution_count": 20,
   "metadata": {},
   "outputs": [
    {
     "name": "stdout",
     "output_type": "stream",
     "text": [
      "Train Acc 0.9920\n",
      "Test Acc 0.6000\n"
     ]
    }
   ],
   "source": [
    "print(\"Train Acc %.4f\"%getAccuracy(X,Y,model))\n",
    "print(\"Test Acc %.4f\"%getAccuracy(XTest,YTest,model))"
   ]
  }
 ],
 "metadata": {
  "kernelspec": {
   "display_name": "Python 3",
   "language": "python",
   "name": "python3"
  },
  "language_info": {
   "codemirror_mode": {
    "name": "ipython",
    "version": 3
   },
   "file_extension": ".py",
   "mimetype": "text/x-python",
   "name": "python",
   "nbconvert_exporter": "python",
   "pygments_lexer": "ipython3",
   "version": "3.6.3"
  }
 },
 "nbformat": 4,
 "nbformat_minor": 2
}
